{
 "cells": [
  {
   "cell_type": "markdown",
   "metadata": {},
   "source": [
    "#S03 T01: Estructura de dades"
   ]
  },
  {
   "cell_type": "markdown",
   "metadata": {},
   "source": [
    "## Nivell 1\n",
    "\n"
   ]
  },
  {
   "cell_type": "markdown",
   "metadata": {},
   "source": [
    "###  Exercici 1\n",
    "Crea una llista que agrupi els mesos de l’any en trimestres (1T: Gener, Febrer i Març, 2T: Abril, Maig, Juny...), és a dir, una llista amb 4 llistes dins."
   ]
  },
  {
   "cell_type": "code",
   "execution_count": 11,
   "metadata": {},
   "outputs": [
    {
     "data": {
      "text/plain": [
       "[['Enero', 'Febrero', 'Marzo'],\n",
       " ['Abril', 'Mayo', 'Junio'],\n",
       " ['Julio', 'Agosto', 'Septiembre'],\n",
       " ['Octubre', 'Noviembre', 'Diciembre']]"
      ]
     },
     "execution_count": 11,
     "metadata": {},
     "output_type": "execute_result"
    }
   ],
   "source": [
    "t1= [\"Enero\", \"Febrero\", \"Marzo\"]\n",
    "t2= [\"Abril\", \"Mayo\", \"Junio\"]\n",
    "t3 =[\"Julio\", \"Agosto\", \"Septiembre\"]\n",
    "t4 =[\"Octubre\", \"Noviembre\", \"Diciembre\"]\n",
    "any = list()\n",
    "any.append(t1)\n",
    "any.append(t2)\n",
    "any.append(t3)\n",
    "any.append(t4)\n"
   ]
  },
  {
   "cell_type": "markdown",
   "metadata": {},
   "source": [
    "### Exercici 2\n",
    "Crea un codi que et permeti accedir a:\n",
    "\n",
    "El segon mes del primer trimestre\n",
    "Els mesos del primer trimestre\n",
    "Setembre i octubre"
   ]
  },
  {
   "cell_type": "code",
   "execution_count": 119,
   "metadata": {},
   "outputs": [
    {
     "name": "stdout",
     "output_type": "stream",
     "text": [
      "Febrero\n",
      "Enero,Febrero,Marzo\n",
      "Septiembre,Octubre\n"
     ]
    }
   ],
   "source": [
    "print (any[0][1])\n",
    "print (\",\".join(any[0]))\n",
    "print (f\"{any[2][-1]},{any[3][0]}\")\n",
    "\n",
    "\n"
   ]
  },
  {
   "cell_type": "markdown",
   "metadata": {},
   "source": [
    "### Exercici 3\n",
    "Crea una llista amb nombres desordenats i respon a les següents preguntes:\n",
    "\n",
    "Quants números hi ha?\n",
    "Quantes vegades apareix el número 3\n",
    "Quantes vegades apareixen els nombres 3 i 4?\n",
    "Quin és el número més gran?\n",
    "Quins són els 3 números més petits?\n",
    "Quin és el rang d’aquest llista?"
   ]
  },
  {
   "cell_type": "code",
   "execution_count": 90,
   "metadata": {},
   "outputs": [
    {
     "name": "stdout",
     "output_type": "stream",
     "text": [
      "hi ha 20 elements \n",
      "el numero 3 pareix 0 vegades\n",
      "el numero 3 i 4 apareix 1 vegades\n",
      "el numero mes gran es 29\n",
      "el dos numeros mes petits son [0, 4, 5]\n",
      "el rang de la llista es [0-29]\n"
     ]
    }
   ],
   "source": [
    "import random\n",
    "randomlist = random.sample(range(0, 30), 20)\n",
    "print(f\"hi ha {len(randomlist)} elements \")\n",
    "print(f\"el numero 3 pareix {randomlist.count(3)} vegades\")\n",
    "print(f\"el numero 3 i 4 apareix {sum([randomlist.count(element) for element in [3,4] ])} vegades\")\n",
    "print(f\"el numero mes gran es {max(randomlist)}\")\n",
    "print(f\"el dos numeros mes petits son {sorted(randomlist)[0:3]}\")\n",
    "print(f\"el rang de la llista es [{min(randomlist)}-{max(randomlist)}]\")"
   ]
  },
  {
   "cell_type": "markdown",
   "metadata": {},
   "source": [
    "### Exercici 4\n",
    "Crea un diccionari de la següent forma i respon a les preguntes:\n",
    "\n",
    "compra = { \"Pomes\" : {\"Qty\": 5, \"€\": 0.42}, \"Peres\" : {\"Qty\": 3, \"€\": 0.66} }\n",
    "\n",
    "Afegeix alguna fruita més\n",
    "Quant han costat les peres en total?\n",
    "Quantes fruites hem comprat en total?\n",
    "Quina és la fruita més cara?"
   ]
  },
  {
   "cell_type": "code",
   "execution_count": 109,
   "metadata": {},
   "outputs": [
    {
     "name": "stdout",
     "output_type": "stream",
     "text": [
      "les peres han costat 1.98 €\n",
      "hi ha 3 fruites\n",
      "la fruita mes cara son les/els Peres\n"
     ]
    }
   ],
   "source": [
    "compra = { \"Pomes\" : {\"Qty\": 5, \"€\": 0.42}, \"Peres\" : {\"Qty\": 3, \"€\": 0.66} }\n",
    "\n",
    "compra[\"Platans\"]={\"Qty\": 15, \"€\": 0.32}\n",
    "\n",
    "print(\"les peres han costat %0.2f €\"%(compra[\"Peres\"][\"Qty\"]*compra[\"Peres\"][\"€\"]))\n",
    "print(f\"hi ha {len(compra)} fruites\")\n",
    "print(f\"la fruita mes cara son les/els {max(compra, key=lambda fruita: compra[fruita]['€'] )}\" )\n",
    "\n"
   ]
  }
 ],
 "metadata": {
  "interpreter": {
   "hash": "e7370f93d1d0cde622a1f8e1c04877d8463912d04d973331ad4851f04de6915a"
  },
  "kernelspec": {
   "display_name": "Python 3.9.7 64-bit",
   "name": "python3"
  },
  "language_info": {
   "codemirror_mode": {
    "name": "ipython",
    "version": 3
   },
   "file_extension": ".py",
   "mimetype": "text/x-python",
   "name": "python",
   "nbconvert_exporter": "python",
   "pygments_lexer": "ipython3",
   "version": "3.9.7"
  },
  "orig_nbformat": 4
 },
 "nbformat": 4,
 "nbformat_minor": 2
}
